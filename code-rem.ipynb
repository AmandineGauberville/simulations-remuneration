{
 "cells": [
  {
   "cell_type": "markdown",
   "id": "d0317893-fcd3-44a5-9796-063057330426",
   "metadata": {},
   "source": [
    "### IMPORTATION DES LIBRAIRIES"
   ]
  },
  {
   "cell_type": "code",
   "execution_count": 1,
   "id": "13cd4001-da12-40d7-b10c-7c0e4c2b9501",
   "metadata": {},
   "outputs": [],
   "source": [
    "import pandas as pd\n",
    "import numpy as np\n",
    "import random"
   ]
  },
  {
   "cell_type": "markdown",
   "id": "0e13a497-ad9d-4332-a64a-d78a982c5c0a",
   "metadata": {},
   "source": [
    "#### Création de la variable SMIC annuel brut de 19 237,82 €"
   ]
  },
  {
   "cell_type": "markdown",
   "id": "ba558cfd-958c-4ef6-9b23-146912789add",
   "metadata": {},
   "source": [
    "* Le salaire minimum annuel est égal au taux horaire minimum 10,57€ au 01/01/2022\n",
    "* Volume horaire mensuel = 151,67\n",
    "* Total sur 12 mois"
   ]
  },
  {
   "cell_type": "code",
   "execution_count": 2,
   "id": "5828c7fb-20ee-4ee9-b7c0-89ffa6d9a697",
   "metadata": {},
   "outputs": [
    {
     "data": {
      "text/plain": [
       "19237.822799999998"
      ]
     },
     "execution_count": 2,
     "metadata": {},
     "output_type": "execute_result"
    }
   ],
   "source": [
    "smic_annuel_brut = 10.57*151.67*12\n",
    "smic_annuel_brut"
   ]
  },
  {
   "cell_type": "code",
   "execution_count": 3,
   "id": "0809146d-7b3f-4ffd-90b7-d7c5e4351c60",
   "metadata": {},
   "outputs": [
    {
     "data": {
      "text/plain": [
       "20103.524825999997"
      ]
     },
     "execution_count": 3,
     "metadata": {},
     "output_type": "execute_result"
    }
   ],
   "source": [
    "smic_charge = smic_annuel_brut*1.045\n",
    "smic_charge"
   ]
  },
  {
   "cell_type": "markdown",
   "id": "65eeccb9-65db-4144-a8c2-8640f2f4d3e1",
   "metadata": {},
   "source": [
    "#### Création de la variable \"coût chargé\" que l'employeur doit multiplier au salaire brut (= coût total chargé)"
   ]
  },
  {
   "cell_type": "code",
   "execution_count": 4,
   "id": "b4097a54-05a4-4d79-bf3a-e23be35fb3b0",
   "metadata": {},
   "outputs": [],
   "source": [
    "cout_charge = 1.045"
   ]
  },
  {
   "cell_type": "markdown",
   "id": "662b653f-14f7-4c56-a428-c3dcacef0fcb",
   "metadata": {},
   "source": [
    "#### Création du barème de la part variable de rémunération"
   ]
  },
  {
   "cell_type": "markdown",
   "id": "ea396811-9197-49c4-82af-098df6f8d69a",
   "metadata": {},
   "source": [
    "En fonction du chiffre d'affaires obtenu, le salarié percevra : SMIC mensuel + (chiffres d'affaires mensuel * barème)\n",
    "* Exemple avec un CA mensuel de 2 700,00€ : 1603,15 (SMIC) + (2700*3%) alors le salarié percevra 1684,15 €"
   ]
  },
  {
   "cell_type": "code",
   "execution_count": 5,
   "id": "921feb67-982e-4e37-9a82-3c228e1a0b2d",
   "metadata": {},
   "outputs": [
    {
     "data": {
      "text/plain": [
       "[0, 0.03, 0.09, 0.13, 0.16, 0.18, 0.2]"
      ]
     },
     "execution_count": 5,
     "metadata": {},
     "output_type": "execute_result"
    }
   ],
   "source": [
    "bareme = [0, 0.03, 0.09, 0.13, 0.16, 0.18, 0.2]\n",
    "bareme"
   ]
  },
  {
   "cell_type": "code",
   "execution_count": 6,
   "id": "5eff4f9f-7898-4e8d-90f2-e3d3bfd9a054",
   "metadata": {},
   "outputs": [],
   "source": [
    "\"\"\"Fonction qui détermine la part variable brute que gagne \n",
    "un salarié avec le montant du chiffre d'affaires mensuel obtenu\"\"\"\n",
    "\n",
    "def find_variable(ca):\n",
    "    if ca in range(0, 2500):\n",
    "        return ca*bareme[0]\n",
    "    if ca in range(2500, 4166):\n",
    "        return ca*bareme[1]\n",
    "    if ca in range(4166, 8333):\n",
    "        return ca*bareme[2]\n",
    "    if ca in range(8333, 12500):\n",
    "        return ca*bareme[3]\n",
    "    if ca in range(12500, 16666):\n",
    "        return ca*bareme[4]\n",
    "    if ca in range(16666, 20833):\n",
    "        return ca*bareme[5]\n",
    "    if ca >= 20833:\n",
    "        return ca*bareme[6]"
   ]
  },
  {
   "cell_type": "code",
   "execution_count": 7,
   "id": "dff48e29-6111-4c59-acf5-437048ca5f7b",
   "metadata": {},
   "outputs": [
    {
     "data": {
      "text/plain": [
       "90.0"
      ]
     },
     "execution_count": 7,
     "metadata": {},
     "output_type": "execute_result"
    }
   ],
   "source": [
    "#Avec un chiffre d'affaires mensuel de 3000€ obtenu, le salarié touchera un montant mensuel de 90€ brut en plus du SMIC brut mensuel\n",
    "find_variable(3000)"
   ]
  },
  {
   "cell_type": "markdown",
   "id": "5e7d8fa3-fffb-4378-bb96-bb651fba7e7c",
   "metadata": {},
   "source": [
    "#### Création d'un DataFrame"
   ]
  },
  {
   "cell_type": "markdown",
   "id": "93003906-f1bf-4475-b3e3-bdd074be3c30",
   "metadata": {},
   "source": [
    "* 1 ligne = 1 rémunération annuelle\n",
    "* Ajout de 100 000 chiffre d'affaires mensuels aléatoires"
   ]
  },
  {
   "cell_type": "code",
   "execution_count": 8,
   "id": "c066db04-fb27-4bb8-a208-827a490c15f7",
   "metadata": {},
   "outputs": [],
   "source": [
    "colnames = ['CAJANV','CAFEV','CAMARS','CAAVRIL','CAMAI','CAJUIN','CAJUILL','CAAOUT','CASEPT','CAOCT','CANOV','CADEC','SMIC']"
   ]
  },
  {
   "cell_type": "code",
   "execution_count": 9,
   "id": "1161c163-d18f-4f82-ad70-007c42ec4b59",
   "metadata": {},
   "outputs": [],
   "source": [
    "df = pd.DataFrame(columns=colnames)"
   ]
  },
  {
   "cell_type": "code",
   "execution_count": 10,
   "id": "228f0657-9f56-4e7f-8e60-5d5cec2e961e",
   "metadata": {},
   "outputs": [
    {
     "name": "stderr",
     "output_type": "stream",
     "text": [
      "<ipython-input-10-f87b7a1bd50e>:1: DeprecationWarning: This function is deprecated. Please call randint(0, 50000 + 1) instead\n",
      "  df['CAJANV'] = np.random.random_integers(0, 50000, 100000)\n",
      "<ipython-input-10-f87b7a1bd50e>:2: DeprecationWarning: This function is deprecated. Please call randint(0, 50000 + 1) instead\n",
      "  df['CAFEV'] = np.random.random_integers(0, 50000, 100000)\n",
      "<ipython-input-10-f87b7a1bd50e>:3: DeprecationWarning: This function is deprecated. Please call randint(0, 50000 + 1) instead\n",
      "  df['CAMARS'] = np.random.random_integers(0, 50000, 100000)\n",
      "<ipython-input-10-f87b7a1bd50e>:4: DeprecationWarning: This function is deprecated. Please call randint(0, 50000 + 1) instead\n",
      "  df['CAAVRIL'] = np.random.random_integers(0, 50000, 100000)\n",
      "<ipython-input-10-f87b7a1bd50e>:5: DeprecationWarning: This function is deprecated. Please call randint(0, 50000 + 1) instead\n",
      "  df['CAMAI'] = np.random.random_integers(0, 50000, 100000)\n",
      "<ipython-input-10-f87b7a1bd50e>:6: DeprecationWarning: This function is deprecated. Please call randint(0, 50000 + 1) instead\n",
      "  df['CAJUIN'] = np.random.random_integers(0, 50000, 100000)\n",
      "<ipython-input-10-f87b7a1bd50e>:7: DeprecationWarning: This function is deprecated. Please call randint(0, 50000 + 1) instead\n",
      "  df['CAJUILL'] = np.random.random_integers(0, 50000, 100000)\n",
      "<ipython-input-10-f87b7a1bd50e>:8: DeprecationWarning: This function is deprecated. Please call randint(0, 50000 + 1) instead\n",
      "  df['CAAOUT'] = np.random.random_integers(0, 50000, 100000)\n",
      "<ipython-input-10-f87b7a1bd50e>:9: DeprecationWarning: This function is deprecated. Please call randint(0, 50000 + 1) instead\n",
      "  df['CASEPT'] = np.random.random_integers(0, 50000, 100000)\n",
      "<ipython-input-10-f87b7a1bd50e>:10: DeprecationWarning: This function is deprecated. Please call randint(0, 50000 + 1) instead\n",
      "  df['CAOCT'] = np.random.random_integers(0, 50000, 100000)\n",
      "<ipython-input-10-f87b7a1bd50e>:11: DeprecationWarning: This function is deprecated. Please call randint(0, 50000 + 1) instead\n",
      "  df['CANOV'] = np.random.random_integers(0, 50000, 100000)\n",
      "<ipython-input-10-f87b7a1bd50e>:12: DeprecationWarning: This function is deprecated. Please call randint(0, 50000 + 1) instead\n",
      "  df['CADEC'] = np.random.random_integers(0, 50000, 100000)\n"
     ]
    }
   ],
   "source": [
    "df['CAJANV'] = np.random.random_integers(0, 50000, 100000)\n",
    "df['CAFEV'] = np.random.random_integers(0, 50000, 100000)\n",
    "df['CAMARS'] = np.random.random_integers(0, 50000, 100000)\n",
    "df['CAAVRIL'] = np.random.random_integers(0, 50000, 100000)\n",
    "df['CAMAI'] = np.random.random_integers(0, 50000, 100000)\n",
    "df['CAJUIN'] = np.random.random_integers(0, 50000, 100000)\n",
    "df['CAJUILL'] = np.random.random_integers(0, 50000, 100000)\n",
    "df['CAAOUT'] = np.random.random_integers(0, 50000, 100000)\n",
    "df['CASEPT'] = np.random.random_integers(0, 50000, 100000)\n",
    "df['CAOCT'] = np.random.random_integers(0, 50000, 100000)\n",
    "df['CANOV'] = np.random.random_integers(0, 50000, 100000)\n",
    "df['CADEC'] = np.random.random_integers(0, 50000, 100000)\n",
    "df['SMIC'] = smic_annuel_brut\n",
    "#df['COUTCHARGE']  = (df['SMIC']+df['VAR'])*cout_charge"
   ]
  },
  {
   "cell_type": "code",
   "execution_count": 11,
   "id": "64fade88-cd6e-4c12-8fff-af7d7af77cde",
   "metadata": {},
   "outputs": [
    {
     "data": {
      "text/html": [
       "<div>\n",
       "<style scoped>\n",
       "    .dataframe tbody tr th:only-of-type {\n",
       "        vertical-align: middle;\n",
       "    }\n",
       "\n",
       "    .dataframe tbody tr th {\n",
       "        vertical-align: top;\n",
       "    }\n",
       "\n",
       "    .dataframe thead th {\n",
       "        text-align: right;\n",
       "    }\n",
       "</style>\n",
       "<table border=\"1\" class=\"dataframe\">\n",
       "  <thead>\n",
       "    <tr style=\"text-align: right;\">\n",
       "      <th></th>\n",
       "      <th>CAJANV</th>\n",
       "      <th>CAFEV</th>\n",
       "      <th>CAMARS</th>\n",
       "      <th>CAAVRIL</th>\n",
       "      <th>CAMAI</th>\n",
       "      <th>CAJUIN</th>\n",
       "      <th>CAJUILL</th>\n",
       "      <th>CAAOUT</th>\n",
       "      <th>CASEPT</th>\n",
       "      <th>CAOCT</th>\n",
       "      <th>CANOV</th>\n",
       "      <th>CADEC</th>\n",
       "      <th>SMIC</th>\n",
       "    </tr>\n",
       "  </thead>\n",
       "  <tbody>\n",
       "    <tr>\n",
       "      <th>0</th>\n",
       "      <td>28159</td>\n",
       "      <td>21008</td>\n",
       "      <td>19557</td>\n",
       "      <td>3710</td>\n",
       "      <td>20836</td>\n",
       "      <td>6414</td>\n",
       "      <td>8686</td>\n",
       "      <td>5008</td>\n",
       "      <td>22117</td>\n",
       "      <td>23192</td>\n",
       "      <td>30729</td>\n",
       "      <td>40019</td>\n",
       "      <td>19237.8228</td>\n",
       "    </tr>\n",
       "    <tr>\n",
       "      <th>1</th>\n",
       "      <td>33341</td>\n",
       "      <td>32849</td>\n",
       "      <td>6017</td>\n",
       "      <td>35810</td>\n",
       "      <td>35411</td>\n",
       "      <td>4118</td>\n",
       "      <td>8809</td>\n",
       "      <td>39081</td>\n",
       "      <td>35183</td>\n",
       "      <td>19257</td>\n",
       "      <td>33134</td>\n",
       "      <td>40532</td>\n",
       "      <td>19237.8228</td>\n",
       "    </tr>\n",
       "    <tr>\n",
       "      <th>2</th>\n",
       "      <td>30463</td>\n",
       "      <td>24041</td>\n",
       "      <td>40928</td>\n",
       "      <td>44594</td>\n",
       "      <td>12695</td>\n",
       "      <td>1261</td>\n",
       "      <td>42966</td>\n",
       "      <td>24757</td>\n",
       "      <td>16843</td>\n",
       "      <td>41750</td>\n",
       "      <td>36750</td>\n",
       "      <td>51</td>\n",
       "      <td>19237.8228</td>\n",
       "    </tr>\n",
       "    <tr>\n",
       "      <th>3</th>\n",
       "      <td>39689</td>\n",
       "      <td>4975</td>\n",
       "      <td>33500</td>\n",
       "      <td>9748</td>\n",
       "      <td>28122</td>\n",
       "      <td>12709</td>\n",
       "      <td>7140</td>\n",
       "      <td>43354</td>\n",
       "      <td>8217</td>\n",
       "      <td>42268</td>\n",
       "      <td>27682</td>\n",
       "      <td>20336</td>\n",
       "      <td>19237.8228</td>\n",
       "    </tr>\n",
       "    <tr>\n",
       "      <th>4</th>\n",
       "      <td>25216</td>\n",
       "      <td>35466</td>\n",
       "      <td>6606</td>\n",
       "      <td>49988</td>\n",
       "      <td>33907</td>\n",
       "      <td>43304</td>\n",
       "      <td>27805</td>\n",
       "      <td>21610</td>\n",
       "      <td>36685</td>\n",
       "      <td>30610</td>\n",
       "      <td>34510</td>\n",
       "      <td>45158</td>\n",
       "      <td>19237.8228</td>\n",
       "    </tr>\n",
       "  </tbody>\n",
       "</table>\n",
       "</div>"
      ],
      "text/plain": [
       "   CAJANV  CAFEV  CAMARS  CAAVRIL  CAMAI  CAJUIN  CAJUILL  CAAOUT  CASEPT  \\\n",
       "0   28159  21008   19557     3710  20836    6414     8686    5008   22117   \n",
       "1   33341  32849    6017    35810  35411    4118     8809   39081   35183   \n",
       "2   30463  24041   40928    44594  12695    1261    42966   24757   16843   \n",
       "3   39689   4975   33500     9748  28122   12709     7140   43354    8217   \n",
       "4   25216  35466    6606    49988  33907   43304    27805   21610   36685   \n",
       "\n",
       "   CAOCT  CANOV  CADEC        SMIC  \n",
       "0  23192  30729  40019  19237.8228  \n",
       "1  19257  33134  40532  19237.8228  \n",
       "2  41750  36750     51  19237.8228  \n",
       "3  42268  27682  20336  19237.8228  \n",
       "4  30610  34510  45158  19237.8228  "
      ]
     },
     "execution_count": 11,
     "metadata": {},
     "output_type": "execute_result"
    }
   ],
   "source": [
    "df.head()"
   ]
  },
  {
   "cell_type": "markdown",
   "id": "fba02e3b-ad7b-4a6b-9a38-39fbf9c803d4",
   "metadata": {},
   "source": [
    "##### Création d'une colonne \"Coût mensuel\"\n",
    "* Chaque mois détermine la part variable du salarié en fonction du chiffre d'affaires obtenu ce même mois\n",
    "* coût mensuel = Somme de l'ensemble des parts variables mensuelles"
   ]
  },
  {
   "cell_type": "code",
   "execution_count": 12,
   "id": "4666a385-3c67-417d-8f26-b4389d0e4012",
   "metadata": {},
   "outputs": [],
   "source": [
    "df['coutmensuel'] = df.CAJANV.apply(find_variable)+df.CAFEV.apply(find_variable)+df.CAMARS.apply(find_variable)+df.CAAVRIL.apply(find_variable)+df.CAMAI.apply(find_variable)+df.CAJUIN.apply(find_variable)+df.CAJUILL.apply(find_variable)+df.CAAOUT.apply(find_variable)+df.CASEPT.apply(find_variable)+df.CAOCT.apply(find_variable)+df.CANOV.apply(find_variable)+df.CADEC.apply(find_variable)"
   ]
  },
  {
   "cell_type": "code",
   "execution_count": 13,
   "id": "c5951233-4bf3-4b05-941c-9e50abd41c9e",
   "metadata": {},
   "outputs": [
    {
     "data": {
      "text/html": [
       "<div>\n",
       "<style scoped>\n",
       "    .dataframe tbody tr th:only-of-type {\n",
       "        vertical-align: middle;\n",
       "    }\n",
       "\n",
       "    .dataframe tbody tr th {\n",
       "        vertical-align: top;\n",
       "    }\n",
       "\n",
       "    .dataframe thead th {\n",
       "        text-align: right;\n",
       "    }\n",
       "</style>\n",
       "<table border=\"1\" class=\"dataframe\">\n",
       "  <thead>\n",
       "    <tr style=\"text-align: right;\">\n",
       "      <th></th>\n",
       "      <th>CAJANV</th>\n",
       "      <th>CAFEV</th>\n",
       "      <th>CAMARS</th>\n",
       "      <th>CAAVRIL</th>\n",
       "      <th>CAMAI</th>\n",
       "      <th>CAJUIN</th>\n",
       "      <th>CAJUILL</th>\n",
       "      <th>CAAOUT</th>\n",
       "      <th>CASEPT</th>\n",
       "      <th>CAOCT</th>\n",
       "      <th>CANOV</th>\n",
       "      <th>CADEC</th>\n",
       "      <th>SMIC</th>\n",
       "      <th>coutmensuel</th>\n",
       "    </tr>\n",
       "  </thead>\n",
       "  <tbody>\n",
       "    <tr>\n",
       "      <th>0</th>\n",
       "      <td>28159</td>\n",
       "      <td>21008</td>\n",
       "      <td>19557</td>\n",
       "      <td>3710</td>\n",
       "      <td>20836</td>\n",
       "      <td>6414</td>\n",
       "      <td>8686</td>\n",
       "      <td>5008</td>\n",
       "      <td>22117</td>\n",
       "      <td>23192</td>\n",
       "      <td>30729</td>\n",
       "      <td>40019</td>\n",
       "      <td>19237.8228</td>\n",
       "      <td>43000.72</td>\n",
       "    </tr>\n",
       "    <tr>\n",
       "      <th>1</th>\n",
       "      <td>33341</td>\n",
       "      <td>32849</td>\n",
       "      <td>6017</td>\n",
       "      <td>35810</td>\n",
       "      <td>35411</td>\n",
       "      <td>4118</td>\n",
       "      <td>8809</td>\n",
       "      <td>39081</td>\n",
       "      <td>35183</td>\n",
       "      <td>19257</td>\n",
       "      <td>33134</td>\n",
       "      <td>40532</td>\n",
       "      <td>19237.8228</td>\n",
       "      <td>62344.70</td>\n",
       "    </tr>\n",
       "    <tr>\n",
       "      <th>2</th>\n",
       "      <td>30463</td>\n",
       "      <td>24041</td>\n",
       "      <td>40928</td>\n",
       "      <td>44594</td>\n",
       "      <td>12695</td>\n",
       "      <td>1261</td>\n",
       "      <td>42966</td>\n",
       "      <td>24757</td>\n",
       "      <td>16843</td>\n",
       "      <td>41750</td>\n",
       "      <td>36750</td>\n",
       "      <td>51</td>\n",
       "      <td>19237.8228</td>\n",
       "      <td>62312.74</td>\n",
       "    </tr>\n",
       "    <tr>\n",
       "      <th>3</th>\n",
       "      <td>39689</td>\n",
       "      <td>4975</td>\n",
       "      <td>33500</td>\n",
       "      <td>9748</td>\n",
       "      <td>28122</td>\n",
       "      <td>12709</td>\n",
       "      <td>7140</td>\n",
       "      <td>43354</td>\n",
       "      <td>8217</td>\n",
       "      <td>42268</td>\n",
       "      <td>27682</td>\n",
       "      <td>20336</td>\n",
       "      <td>19237.8228</td>\n",
       "      <td>51714.04</td>\n",
       "    </tr>\n",
       "    <tr>\n",
       "      <th>4</th>\n",
       "      <td>25216</td>\n",
       "      <td>35466</td>\n",
       "      <td>6606</td>\n",
       "      <td>49988</td>\n",
       "      <td>33907</td>\n",
       "      <td>43304</td>\n",
       "      <td>27805</td>\n",
       "      <td>21610</td>\n",
       "      <td>36685</td>\n",
       "      <td>30610</td>\n",
       "      <td>34510</td>\n",
       "      <td>45158</td>\n",
       "      <td>19237.8228</td>\n",
       "      <td>77446.34</td>\n",
       "    </tr>\n",
       "  </tbody>\n",
       "</table>\n",
       "</div>"
      ],
      "text/plain": [
       "   CAJANV  CAFEV  CAMARS  CAAVRIL  CAMAI  CAJUIN  CAJUILL  CAAOUT  CASEPT  \\\n",
       "0   28159  21008   19557     3710  20836    6414     8686    5008   22117   \n",
       "1   33341  32849    6017    35810  35411    4118     8809   39081   35183   \n",
       "2   30463  24041   40928    44594  12695    1261    42966   24757   16843   \n",
       "3   39689   4975   33500     9748  28122   12709     7140   43354    8217   \n",
       "4   25216  35466    6606    49988  33907   43304    27805   21610   36685   \n",
       "\n",
       "   CAOCT  CANOV  CADEC        SMIC  coutmensuel  \n",
       "0  23192  30729  40019  19237.8228     43000.72  \n",
       "1  19257  33134  40532  19237.8228     62344.70  \n",
       "2  41750  36750     51  19237.8228     62312.74  \n",
       "3  42268  27682  20336  19237.8228     51714.04  \n",
       "4  30610  34510  45158  19237.8228     77446.34  "
      ]
     },
     "execution_count": 13,
     "metadata": {},
     "output_type": "execute_result"
    }
   ],
   "source": [
    "df.head()"
   ]
  },
  {
   "cell_type": "code",
   "execution_count": 14,
   "id": "6ab2ec9b-b23c-4ba0-8a5b-89031569f6e3",
   "metadata": {},
   "outputs": [
    {
     "data": {
      "text/plain": [
       "'#Test de la première ligne\\nfind_variable(35032)+find_variable(16718)+find_variable(40326)+find_variable(5120)+find_variable(14451)+find_variable(3222)+find_variable(23947)+find_variable(31506)+find_variable(15824)+find_variable(7958)+find_variable(42862)+find_variable(181)'"
      ]
     },
     "execution_count": 14,
     "metadata": {},
     "output_type": "execute_result"
    }
   ],
   "source": [
    "\"\"\"#Test de la première ligne\n",
    "find_variable(35032)+find_variable(16718)+find_variable(40326)+find_variable(5120)+find_variable(14451)+find_variable(3222)+find_variable(23947)+find_variable(31506)+find_variable(15824)+find_variable(7958)+find_variable(42862)+find_variable(181)\"\"\""
   ]
  },
  {
   "cell_type": "markdown",
   "id": "9c9c80a3-28f1-45f3-8143-96f70e04229b",
   "metadata": {},
   "source": [
    "##### Création d'une colonne \"Total mensuel\"\n",
    "* Coût total chargé de l'employeur si calcul mensuel ((SMIC annuel brut + VARIABLE annuelle brute) * 1.045)"
   ]
  },
  {
   "cell_type": "code",
   "execution_count": 30,
   "id": "e041ff62-e988-4796-87ff-c0f77d82b18d",
   "metadata": {},
   "outputs": [],
   "source": [
    "df['totalmensuel'] = (df['SMIC']+df['coutmensuel'])*cout_charge"
   ]
  },
  {
   "cell_type": "code",
   "execution_count": 31,
   "id": "9cfac4ce-e82b-4da1-8a08-b2ffe8e4d779",
   "metadata": {},
   "outputs": [
    {
     "data": {
      "text/html": [
       "<div>\n",
       "<style scoped>\n",
       "    .dataframe tbody tr th:only-of-type {\n",
       "        vertical-align: middle;\n",
       "    }\n",
       "\n",
       "    .dataframe tbody tr th {\n",
       "        vertical-align: top;\n",
       "    }\n",
       "\n",
       "    .dataframe thead th {\n",
       "        text-align: right;\n",
       "    }\n",
       "</style>\n",
       "<table border=\"1\" class=\"dataframe\">\n",
       "  <thead>\n",
       "    <tr style=\"text-align: right;\">\n",
       "      <th></th>\n",
       "      <th>CAJANV</th>\n",
       "      <th>CAFEV</th>\n",
       "      <th>CAMARS</th>\n",
       "      <th>CAAVRIL</th>\n",
       "      <th>CAMAI</th>\n",
       "      <th>CAJUIN</th>\n",
       "      <th>CAJUILL</th>\n",
       "      <th>CAAOUT</th>\n",
       "      <th>CASEPT</th>\n",
       "      <th>CAOCT</th>\n",
       "      <th>CANOV</th>\n",
       "      <th>CADEC</th>\n",
       "      <th>SMIC</th>\n",
       "      <th>coutmensuel</th>\n",
       "      <th>totalmensuel</th>\n",
       "      <th>couttrimestriel</th>\n",
       "      <th>totaltrimestriel</th>\n",
       "      <th>coutsemestriel</th>\n",
       "      <th>totalsemestriel</th>\n",
       "    </tr>\n",
       "  </thead>\n",
       "  <tbody>\n",
       "    <tr>\n",
       "      <th>0</th>\n",
       "      <td>28159</td>\n",
       "      <td>21008</td>\n",
       "      <td>19557</td>\n",
       "      <td>3710</td>\n",
       "      <td>20836</td>\n",
       "      <td>6414</td>\n",
       "      <td>8686</td>\n",
       "      <td>5008</td>\n",
       "      <td>22117</td>\n",
       "      <td>23192</td>\n",
       "      <td>30729</td>\n",
       "      <td>40019</td>\n",
       "      <td>19237.8228</td>\n",
       "      <td>43000.72</td>\n",
       "      <td>65039.277226</td>\n",
       "      <td>41213.03</td>\n",
       "      <td>62305.43915</td>\n",
       "      <td>41899.64</td>\n",
       "      <td>63022.9466</td>\n",
       "    </tr>\n",
       "    <tr>\n",
       "      <th>1</th>\n",
       "      <td>33341</td>\n",
       "      <td>32849</td>\n",
       "      <td>6017</td>\n",
       "      <td>35810</td>\n",
       "      <td>35411</td>\n",
       "      <td>4118</td>\n",
       "      <td>8809</td>\n",
       "      <td>39081</td>\n",
       "      <td>35183</td>\n",
       "      <td>19257</td>\n",
       "      <td>33134</td>\n",
       "      <td>40532</td>\n",
       "      <td>19237.8228</td>\n",
       "      <td>62344.70</td>\n",
       "      <td>85253.736326</td>\n",
       "      <td>64708.40</td>\n",
       "      <td>86858.10080</td>\n",
       "      <td>64708.40</td>\n",
       "      <td>86858.1008</td>\n",
       "    </tr>\n",
       "    <tr>\n",
       "      <th>2</th>\n",
       "      <td>30463</td>\n",
       "      <td>24041</td>\n",
       "      <td>40928</td>\n",
       "      <td>44594</td>\n",
       "      <td>12695</td>\n",
       "      <td>1261</td>\n",
       "      <td>42966</td>\n",
       "      <td>24757</td>\n",
       "      <td>16843</td>\n",
       "      <td>41750</td>\n",
       "      <td>36750</td>\n",
       "      <td>51</td>\n",
       "      <td>19237.8228</td>\n",
       "      <td>62312.74</td>\n",
       "      <td>85220.338126</td>\n",
       "      <td>62248.80</td>\n",
       "      <td>84287.81880</td>\n",
       "      <td>63419.80</td>\n",
       "      <td>85511.5138</td>\n",
       "    </tr>\n",
       "    <tr>\n",
       "      <th>3</th>\n",
       "      <td>39689</td>\n",
       "      <td>4975</td>\n",
       "      <td>33500</td>\n",
       "      <td>9748</td>\n",
       "      <td>28122</td>\n",
       "      <td>12709</td>\n",
       "      <td>7140</td>\n",
       "      <td>43354</td>\n",
       "      <td>8217</td>\n",
       "      <td>42268</td>\n",
       "      <td>27682</td>\n",
       "      <td>20336</td>\n",
       "      <td>19237.8228</td>\n",
       "      <td>51714.04</td>\n",
       "      <td>74144.696626</td>\n",
       "      <td>53362.20</td>\n",
       "      <td>75001.32180</td>\n",
       "      <td>55548.00</td>\n",
       "      <td>77285.4828</td>\n",
       "    </tr>\n",
       "    <tr>\n",
       "      <th>4</th>\n",
       "      <td>25216</td>\n",
       "      <td>35466</td>\n",
       "      <td>6606</td>\n",
       "      <td>49988</td>\n",
       "      <td>33907</td>\n",
       "      <td>43304</td>\n",
       "      <td>27805</td>\n",
       "      <td>21610</td>\n",
       "      <td>36685</td>\n",
       "      <td>30610</td>\n",
       "      <td>34510</td>\n",
       "      <td>45158</td>\n",
       "      <td>19237.8228</td>\n",
       "      <td>77446.34</td>\n",
       "      <td>101034.950126</td>\n",
       "      <td>78173.00</td>\n",
       "      <td>100928.60780</td>\n",
       "      <td>78173.00</td>\n",
       "      <td>100928.6078</td>\n",
       "    </tr>\n",
       "  </tbody>\n",
       "</table>\n",
       "</div>"
      ],
      "text/plain": [
       "   CAJANV  CAFEV  CAMARS  CAAVRIL  CAMAI  CAJUIN  CAJUILL  CAAOUT  CASEPT  \\\n",
       "0   28159  21008   19557     3710  20836    6414     8686    5008   22117   \n",
       "1   33341  32849    6017    35810  35411    4118     8809   39081   35183   \n",
       "2   30463  24041   40928    44594  12695    1261    42966   24757   16843   \n",
       "3   39689   4975   33500     9748  28122   12709     7140   43354    8217   \n",
       "4   25216  35466    6606    49988  33907   43304    27805   21610   36685   \n",
       "\n",
       "   CAOCT  CANOV  CADEC        SMIC  coutmensuel   totalmensuel  \\\n",
       "0  23192  30729  40019  19237.8228     43000.72   65039.277226   \n",
       "1  19257  33134  40532  19237.8228     62344.70   85253.736326   \n",
       "2  41750  36750     51  19237.8228     62312.74   85220.338126   \n",
       "3  42268  27682  20336  19237.8228     51714.04   74144.696626   \n",
       "4  30610  34510  45158  19237.8228     77446.34  101034.950126   \n",
       "\n",
       "   couttrimestriel  totaltrimestriel  coutsemestriel  totalsemestriel  \n",
       "0         41213.03       62305.43915        41899.64       63022.9466  \n",
       "1         64708.40       86858.10080        64708.40       86858.1008  \n",
       "2         62248.80       84287.81880        63419.80       85511.5138  \n",
       "3         53362.20       75001.32180        55548.00       77285.4828  \n",
       "4         78173.00      100928.60780        78173.00      100928.6078  "
      ]
     },
     "execution_count": 31,
     "metadata": {},
     "output_type": "execute_result"
    }
   ],
   "source": [
    "df.head()"
   ]
  },
  {
   "cell_type": "markdown",
   "id": "e0b5ed12-ee36-4361-8b7b-e843350e521c",
   "metadata": {},
   "source": [
    "##### Création d'une fonction qui détermine le barème avec le calcul trimestriel"
   ]
  },
  {
   "cell_type": "code",
   "execution_count": 17,
   "id": "a6601616-5622-4ddf-aa42-5cd97653a933",
   "metadata": {},
   "outputs": [],
   "source": [
    "def find_bareme_trimestre(T):\n",
    "    ca = int(T/3)\n",
    "    if ca in range(0, 2500):\n",
    "        return bareme[0]\n",
    "    if ca in range(2500, 4166):\n",
    "        return bareme[1]\n",
    "    if ca in range(4166, 8333):\n",
    "        return bareme[2]\n",
    "    if ca in range(8333, 12500):\n",
    "        return bareme[3]\n",
    "    if ca in range(12500, 16666):\n",
    "        return bareme[4]\n",
    "    if ca in range(16666, 20833):\n",
    "        return bareme[5]\n",
    "    if ca >= 20833:\n",
    "        return bareme[6]"
   ]
  },
  {
   "cell_type": "markdown",
   "id": "74a6cf0a-27c7-4c44-aa40-8d5d59f57032",
   "metadata": {},
   "source": [
    "##### Création d'une colonne \"Coût trimestriel\"\n",
    "* La somme des chiffres d'affaires obtenus de chaque trimestre détermine la part variable du salarié"
   ]
  },
  {
   "cell_type": "code",
   "execution_count": 18,
   "id": "eccc0344-dae1-45b1-b94c-cff8f94178f7",
   "metadata": {},
   "outputs": [],
   "source": [
    "df['couttrimestriel'] = (((df.CAJANV+df.CAFEV+df.CAMARS).apply(find_bareme_trimestre))*(df.CAJANV+df.CAFEV+df.CAMARS)) + (((df.CAAVRIL+df.CAMAI+df.CAJUIN).apply(find_bareme_trimestre))*(df.CAAVRIL+df.CAMAI+df.CAJUIN)) + (((df.CAJUILL+df.CAAOUT+df.CASEPT).apply(find_bareme_trimestre))*(df.CAJUILL+df.CAAOUT+df.CASEPT)) + (((df.CAOCT+df.CANOV+df.CADEC).apply(find_bareme_trimestre))*(df.CAOCT+df.CANOV+df.CADEC))"
   ]
  },
  {
   "cell_type": "markdown",
   "id": "76ccf53a-eadd-4061-8f35-c4985cd7b00b",
   "metadata": {},
   "source": [
    "##### Création d'une colonne \"Total trimestriel\"\n",
    "* Coût total chargé de l'employeur si calcul trimestriel ((SMIC annuel brut + VARIABLE annuelle brute) * 1.045)"
   ]
  },
  {
   "cell_type": "code",
   "execution_count": 32,
   "id": "08a71970-3b26-44b5-9c79-9daeac0c1345",
   "metadata": {},
   "outputs": [],
   "source": [
    "df['totaltrimestriel'] = (df['SMIC']+df['couttrimestriel'])*cout_charge"
   ]
  },
  {
   "cell_type": "markdown",
   "id": "e1ca3331-ba6b-4f93-b24f-0ddd22afb85d",
   "metadata": {},
   "source": [
    "##### Création d'une fonction qui détermine le barème avec le calcul semestriel"
   ]
  },
  {
   "cell_type": "code",
   "execution_count": 20,
   "id": "cc171fb2-9393-428d-9cea-60be2288d601",
   "metadata": {},
   "outputs": [],
   "source": [
    "def find_bareme_semestre(S):\n",
    "    ca = int(S/6)\n",
    "    if ca in range(0, 2500):\n",
    "        return bareme[0]\n",
    "    if ca in range(2500, 4166):\n",
    "        return bareme[1]\n",
    "    if ca in range(4166, 8333):\n",
    "        return bareme[2]\n",
    "    if ca in range(8333, 12500):\n",
    "        return bareme[3]\n",
    "    if ca in range(12500, 16666):\n",
    "        return bareme[4]\n",
    "    if ca in range(16666, 20833):\n",
    "        return bareme[5]\n",
    "    if ca >= 20833:\n",
    "        return bareme[6]"
   ]
  },
  {
   "cell_type": "markdown",
   "id": "4e9c72ed-6e8d-4d20-bd27-6acf888e72fb",
   "metadata": {},
   "source": [
    "##### Création d'une colonne \"Coût semestriel\"\n",
    "* La somme des chiffres d'affaires obtenus de chaque semestre détermine la part variable du salarié"
   ]
  },
  {
   "cell_type": "code",
   "execution_count": 21,
   "id": "86302f78-444f-4d9a-a4c1-7eb828d94409",
   "metadata": {},
   "outputs": [],
   "source": [
    "df['coutsemestriel'] = (df.CAJANV+df.CAFEV+df.CAMARS+df.CAAVRIL+df.CAMAI+df.CAJUIN).apply(find_bareme_semestre)*(df.CAJANV+df.CAFEV+df.CAMARS+df.CAAVRIL+df.CAMAI+df.CAJUIN) + (df.CAJUILL+df.CAAOUT+df.CASEPT+df.CAOCT+df.CANOV+df.CADEC).apply(find_bareme_semestre)*(df.CAJUILL+df.CAAOUT+df.CASEPT+df.CAOCT+df.CANOV+df.CADEC)"
   ]
  },
  {
   "cell_type": "markdown",
   "id": "1810c1bb-9ba7-4d8a-93f3-a99cb2adefaf",
   "metadata": {},
   "source": [
    "##### Création d'une colonne \"Total semestriel\"\n",
    "* Coût total chargé de l'employeur si calcul semestriel ((SMIC annuel brut + VARIABLE annuelle brute) * 1.045)"
   ]
  },
  {
   "cell_type": "code",
   "execution_count": 33,
   "id": "0541a7b0-6426-4d29-94bd-66a2bbdb4800",
   "metadata": {},
   "outputs": [],
   "source": [
    "df['totalsemestriel'] = (df['SMIC']+df['coutsemestriel'])*cout_charge"
   ]
  },
  {
   "cell_type": "code",
   "execution_count": 34,
   "id": "2929f517-4fbc-42c5-bcc3-dd94429cdf75",
   "metadata": {},
   "outputs": [
    {
     "data": {
      "text/html": [
       "<div>\n",
       "<style scoped>\n",
       "    .dataframe tbody tr th:only-of-type {\n",
       "        vertical-align: middle;\n",
       "    }\n",
       "\n",
       "    .dataframe tbody tr th {\n",
       "        vertical-align: top;\n",
       "    }\n",
       "\n",
       "    .dataframe thead th {\n",
       "        text-align: right;\n",
       "    }\n",
       "</style>\n",
       "<table border=\"1\" class=\"dataframe\">\n",
       "  <thead>\n",
       "    <tr style=\"text-align: right;\">\n",
       "      <th></th>\n",
       "      <th>CAJANV</th>\n",
       "      <th>CAFEV</th>\n",
       "      <th>CAMARS</th>\n",
       "      <th>CAAVRIL</th>\n",
       "      <th>CAMAI</th>\n",
       "      <th>CAJUIN</th>\n",
       "      <th>CAJUILL</th>\n",
       "      <th>CAAOUT</th>\n",
       "      <th>CASEPT</th>\n",
       "      <th>CAOCT</th>\n",
       "      <th>CANOV</th>\n",
       "      <th>CADEC</th>\n",
       "      <th>SMIC</th>\n",
       "      <th>coutmensuel</th>\n",
       "      <th>totalmensuel</th>\n",
       "      <th>couttrimestriel</th>\n",
       "      <th>totaltrimestriel</th>\n",
       "      <th>coutsemestriel</th>\n",
       "      <th>totalsemestriel</th>\n",
       "    </tr>\n",
       "  </thead>\n",
       "  <tbody>\n",
       "    <tr>\n",
       "      <th>0</th>\n",
       "      <td>28159</td>\n",
       "      <td>21008</td>\n",
       "      <td>19557</td>\n",
       "      <td>3710</td>\n",
       "      <td>20836</td>\n",
       "      <td>6414</td>\n",
       "      <td>8686</td>\n",
       "      <td>5008</td>\n",
       "      <td>22117</td>\n",
       "      <td>23192</td>\n",
       "      <td>30729</td>\n",
       "      <td>40019</td>\n",
       "      <td>19237.8228</td>\n",
       "      <td>43000.72</td>\n",
       "      <td>65039.277226</td>\n",
       "      <td>41213.03</td>\n",
       "      <td>63171.141176</td>\n",
       "      <td>41899.64</td>\n",
       "      <td>63888.648626</td>\n",
       "    </tr>\n",
       "    <tr>\n",
       "      <th>1</th>\n",
       "      <td>33341</td>\n",
       "      <td>32849</td>\n",
       "      <td>6017</td>\n",
       "      <td>35810</td>\n",
       "      <td>35411</td>\n",
       "      <td>4118</td>\n",
       "      <td>8809</td>\n",
       "      <td>39081</td>\n",
       "      <td>35183</td>\n",
       "      <td>19257</td>\n",
       "      <td>33134</td>\n",
       "      <td>40532</td>\n",
       "      <td>19237.8228</td>\n",
       "      <td>62344.70</td>\n",
       "      <td>85253.736326</td>\n",
       "      <td>64708.40</td>\n",
       "      <td>87723.802826</td>\n",
       "      <td>64708.40</td>\n",
       "      <td>87723.802826</td>\n",
       "    </tr>\n",
       "    <tr>\n",
       "      <th>2</th>\n",
       "      <td>30463</td>\n",
       "      <td>24041</td>\n",
       "      <td>40928</td>\n",
       "      <td>44594</td>\n",
       "      <td>12695</td>\n",
       "      <td>1261</td>\n",
       "      <td>42966</td>\n",
       "      <td>24757</td>\n",
       "      <td>16843</td>\n",
       "      <td>41750</td>\n",
       "      <td>36750</td>\n",
       "      <td>51</td>\n",
       "      <td>19237.8228</td>\n",
       "      <td>62312.74</td>\n",
       "      <td>85220.338126</td>\n",
       "      <td>62248.80</td>\n",
       "      <td>85153.520826</td>\n",
       "      <td>63419.80</td>\n",
       "      <td>86377.215826</td>\n",
       "    </tr>\n",
       "    <tr>\n",
       "      <th>3</th>\n",
       "      <td>39689</td>\n",
       "      <td>4975</td>\n",
       "      <td>33500</td>\n",
       "      <td>9748</td>\n",
       "      <td>28122</td>\n",
       "      <td>12709</td>\n",
       "      <td>7140</td>\n",
       "      <td>43354</td>\n",
       "      <td>8217</td>\n",
       "      <td>42268</td>\n",
       "      <td>27682</td>\n",
       "      <td>20336</td>\n",
       "      <td>19237.8228</td>\n",
       "      <td>51714.04</td>\n",
       "      <td>74144.696626</td>\n",
       "      <td>53362.20</td>\n",
       "      <td>75867.023826</td>\n",
       "      <td>55548.00</td>\n",
       "      <td>78151.184826</td>\n",
       "    </tr>\n",
       "    <tr>\n",
       "      <th>4</th>\n",
       "      <td>25216</td>\n",
       "      <td>35466</td>\n",
       "      <td>6606</td>\n",
       "      <td>49988</td>\n",
       "      <td>33907</td>\n",
       "      <td>43304</td>\n",
       "      <td>27805</td>\n",
       "      <td>21610</td>\n",
       "      <td>36685</td>\n",
       "      <td>30610</td>\n",
       "      <td>34510</td>\n",
       "      <td>45158</td>\n",
       "      <td>19237.8228</td>\n",
       "      <td>77446.34</td>\n",
       "      <td>101034.950126</td>\n",
       "      <td>78173.00</td>\n",
       "      <td>101794.309826</td>\n",
       "      <td>78173.00</td>\n",
       "      <td>101794.309826</td>\n",
       "    </tr>\n",
       "  </tbody>\n",
       "</table>\n",
       "</div>"
      ],
      "text/plain": [
       "   CAJANV  CAFEV  CAMARS  CAAVRIL  CAMAI  CAJUIN  CAJUILL  CAAOUT  CASEPT  \\\n",
       "0   28159  21008   19557     3710  20836    6414     8686    5008   22117   \n",
       "1   33341  32849    6017    35810  35411    4118     8809   39081   35183   \n",
       "2   30463  24041   40928    44594  12695    1261    42966   24757   16843   \n",
       "3   39689   4975   33500     9748  28122   12709     7140   43354    8217   \n",
       "4   25216  35466    6606    49988  33907   43304    27805   21610   36685   \n",
       "\n",
       "   CAOCT  CANOV  CADEC        SMIC  coutmensuel   totalmensuel  \\\n",
       "0  23192  30729  40019  19237.8228     43000.72   65039.277226   \n",
       "1  19257  33134  40532  19237.8228     62344.70   85253.736326   \n",
       "2  41750  36750     51  19237.8228     62312.74   85220.338126   \n",
       "3  42268  27682  20336  19237.8228     51714.04   74144.696626   \n",
       "4  30610  34510  45158  19237.8228     77446.34  101034.950126   \n",
       "\n",
       "   couttrimestriel  totaltrimestriel  coutsemestriel  totalsemestriel  \n",
       "0         41213.03      63171.141176        41899.64     63888.648626  \n",
       "1         64708.40      87723.802826        64708.40     87723.802826  \n",
       "2         62248.80      85153.520826        63419.80     86377.215826  \n",
       "3         53362.20      75867.023826        55548.00     78151.184826  \n",
       "4         78173.00     101794.309826        78173.00    101794.309826  "
      ]
     },
     "execution_count": 34,
     "metadata": {},
     "output_type": "execute_result"
    }
   ],
   "source": [
    "df.head()"
   ]
  },
  {
   "cell_type": "code",
   "execution_count": null,
   "id": "31215046-8a5c-46c1-a2d2-232a6450bc48",
   "metadata": {},
   "outputs": [],
   "source": []
  },
  {
   "cell_type": "markdown",
   "id": "9359781d-d993-4c1f-b055-ed4073234183",
   "metadata": {},
   "source": [
    "Sur 100 000 CA aléatoires, le calcul mensuel semble le plus intéressant pour l'employeur"
   ]
  },
  {
   "cell_type": "code",
   "execution_count": 35,
   "id": "84b6153f-f586-4a21-8e38-75f915d8da4f",
   "metadata": {},
   "outputs": [
    {
     "data": {
      "text/plain": [
       "7993764854.2565"
      ]
     },
     "execution_count": 35,
     "metadata": {},
     "output_type": "execute_result"
    }
   ],
   "source": [
    "df.totalmensuel.sum()"
   ]
  },
  {
   "cell_type": "code",
   "execution_count": 40,
   "id": "867a4279-81fc-4294-b3a9-6bb5c673fbdc",
   "metadata": {},
   "outputs": [
    {
     "data": {
      "text/plain": [
       "79937.64854256499"
      ]
     },
     "execution_count": 40,
     "metadata": {},
     "output_type": "execute_result"
    }
   ],
   "source": [
    "df.totalmensuel.mean()"
   ]
  },
  {
   "cell_type": "code",
   "execution_count": 36,
   "id": "3382aa8a-fe0e-4a37-95d8-c87a27905468",
   "metadata": {},
   "outputs": [
    {
     "data": {
      "text/plain": [
       "8073042592.2201"
      ]
     },
     "execution_count": 36,
     "metadata": {},
     "output_type": "execute_result"
    }
   ],
   "source": [
    "df.totaltrimestriel.sum()"
   ]
  },
  {
   "cell_type": "code",
   "execution_count": 41,
   "id": "c0f03e77-339e-4e35-8a87-a2394d74c9bc",
   "metadata": {},
   "outputs": [
    {
     "data": {
      "text/plain": [
       "80730.42592220062"
      ]
     },
     "execution_count": 41,
     "metadata": {},
     "output_type": "execute_result"
    }
   ],
   "source": [
    "df.totaltrimestriel.mean()"
   ]
  },
  {
   "cell_type": "code",
   "execution_count": 37,
   "id": "68960214-1e71-42f4-9c73-b3d54071a894",
   "metadata": {},
   "outputs": [
    {
     "data": {
      "text/plain": [
       "8138950997.5763"
      ]
     },
     "execution_count": 37,
     "metadata": {},
     "output_type": "execute_result"
    }
   ],
   "source": [
    "df.totalsemestriel.sum()"
   ]
  },
  {
   "cell_type": "code",
   "execution_count": 42,
   "id": "46dc7a69-c7fd-4496-9722-1af6f700ade6",
   "metadata": {},
   "outputs": [
    {
     "data": {
      "text/plain": [
       "81389.50997576138"
      ]
     },
     "execution_count": 42,
     "metadata": {},
     "output_type": "execute_result"
    }
   ],
   "source": [
    "df.totalsemestriel.mean()"
   ]
  },
  {
   "cell_type": "markdown",
   "id": "b773df67-e8d4-4049-b7c8-6a41e05ec516",
   "metadata": {},
   "source": [
    "#### Exportation du DataFrame"
   ]
  },
  {
   "cell_type": "code",
   "execution_count": 38,
   "id": "55d21cef-0be8-49e4-acbe-3a063553aa08",
   "metadata": {},
   "outputs": [],
   "source": [
    "df.to_csv('simu-remu-courtier.csv', index=False)"
   ]
  },
  {
   "cell_type": "code",
   "execution_count": null,
   "id": "91238214-2396-4063-8fe6-cab2695f6576",
   "metadata": {},
   "outputs": [],
   "source": []
  }
 ],
 "metadata": {
  "kernelspec": {
   "display_name": "Python 3",
   "language": "python",
   "name": "python3"
  },
  "language_info": {
   "codemirror_mode": {
    "name": "ipython",
    "version": 3
   },
   "file_extension": ".py",
   "mimetype": "text/x-python",
   "name": "python",
   "nbconvert_exporter": "python",
   "pygments_lexer": "ipython3",
   "version": "3.8.8"
  }
 },
 "nbformat": 4,
 "nbformat_minor": 5
}
